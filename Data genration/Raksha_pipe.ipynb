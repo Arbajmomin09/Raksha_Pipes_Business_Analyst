{
 "cells": [
  {
   "cell_type": "code",
   "execution_count": 44,
   "id": "d448a7ab",
   "metadata": {},
   "outputs": [],
   "source": [
    "import random as rd\n",
    "from faker import Faker as F\n",
    "import pandas as pd\n",
    "\n",
    "fake = F()"
   ]
  },
  {
   "cell_type": "code",
   "execution_count": 45,
   "id": "e00fba4a",
   "metadata": {},
   "outputs": [],
   "source": [
    "customers = [{'customer_id': idx + 1,\n",
    "              'first_name': fake.first_name(),\n",
    "              'last_name': fake.last_name(),\n",
    "              'email': fake.email(),\n",
    "              'address': fake.address().split('\\n')[0],\n",
    "              'city': fake.city(),\n",
    "              'country': fake.country()} for idx in range(500)]"
   ]
  },
  {
   "cell_type": "code",
   "execution_count": 46,
   "id": "8e3ac06e",
   "metadata": {},
   "outputs": [],
   "source": [
    "# Generate fake data for Orders table\n",
    "orders_data = [{'OrderID': idx + 1,\n",
    "                'CustomerID': rd.randint(1, 100),\n",
    "                'PaymentID': rd.randint(1, 100),\n",
    "                'ShipperID': rd.randint(1, 10),\n",
    "                'Total_order_amount': rd.randint(100, 1000)} for idx in range(200)]"
   ]
  },
  {
   "cell_type": "code",
   "execution_count": 47,
   "id": "81ca5ec4",
   "metadata": {},
   "outputs": [],
   "source": [
    "# Generate fake data for Shippers table\n",
    "idx = 1\n",
    "shippers_data = [{'ShipperID': idx + 1,\n",
    "                   'Company Name': fake.company(),\n",
    "                  'email': fake.email()}for idx in range(10)]\n",
    "\n",
    "\n",
    "# # Display sample data for verification\n",
    "# for shippers in shippers_data:\n",
    "#     print(shippers)"
   ]
  },
  {
   "cell_type": "code",
   "execution_count": 48,
   "id": "31b38bfe",
   "metadata": {},
   "outputs": [],
   "source": [
    "payment_methods = ['PayPal', 'wallet', 'credit_card', 'bank_transfer', 'mobile_payment', 'UPI', 'cash', 'cryptocurrency']\n",
    "\n",
    "payments_data = [{'PaymentID': idx + 1,\n",
    "                  'Payment Type': method,\n",
    "                  'Allowed': rd.choice([True, False])} for idx, method in enumerate(payment_methods)]\n",
    "\n",
    "# Define the CSV file path\n",
    "csv_file = 'payments_data.csv'"
   ]
  },
  {
   "cell_type": "code",
   "execution_count": 49,
   "id": "4de1e5f7",
   "metadata": {},
   "outputs": [],
   "source": [
    "#Generate fake product data\n",
    "categories = {'Agricultural Pipes': ['Drip Irrigation Pipe', 'Sprinkler Pipe', 'HDPE Pipe'],\n",
    "              'Domestic Pipes': ['CPVC Pipe', 'UPVC Pipe', 'PVC Pipe'],\n",
    "              'Industrial Pipes': ['HDPE Pipe', 'PVC Pipe', 'PPR Pipe']}"
   ]
  },
  {
   "cell_type": "code",
   "execution_count": 50,
   "id": "bfc7fc4d",
   "metadata": {},
   "outputs": [],
   "source": [
    "product_id = 1\n",
    "products = []\n",
    "for category, product_list in categories.items():\n",
    "    for product_name in product_list:\n",
    "        product = {'product_id': product_id,\n",
    "                   'supplier_id': rd.randint(1, 500),  # Randomly assign supplier_id\n",
    "                   'product_name': product_name,\n",
    "                   'category': category,\n",
    "                   'unit_price': round(rd.uniform(10, 1000), 2)}\n",
    "        products.append(product)\n",
    "        product_id += 1"
   ]
  },
  {
   "cell_type": "code",
   "execution_count": 51,
   "id": "23425e31",
   "metadata": {},
   "outputs": [],
   "source": [
    "# Convert data to pandas DataFrames\n",
    "customers_df = pd.DataFrame(customers)\n",
    "orders_df = pd.DataFrame(orders_data)\n",
    "\n",
    "payments_data_df = pd.DataFrame(payments_data)\n",
    "products_df= pd.DataFrame(products)"
   ]
  },
  {
   "cell_type": "code",
   "execution_count": 54,
   "id": "ac0dc453",
   "metadata": {},
   "outputs": [],
   "source": [
    "shippers_df = pd.DataFrame(shippers_data )"
   ]
  },
  {
   "cell_type": "code",
   "execution_count": null,
   "id": "4b3450ca",
   "metadata": {},
   "outputs": [],
   "source": []
  },
  {
   "cell_type": "code",
   "execution_count": 69,
   "id": "e456cbc2",
   "metadata": {},
   "outputs": [],
   "source": [
    "# Generate fake data for OrderDetails table\n",
    "order_details_data = [{'OrderDetailID': idx + 1,\n",
    "                   'OrderID': rd.randint(1, 50),\n",
    "                   'ProductID': rd.randint(1, 50),\n",
    "                   'Quantity': rd.randint(1, 10),\n",
    "                   'SupplierID': rd.randint(1, 10)} for idx in range(100)]"
   ]
  },
  {
   "cell_type": "code",
   "execution_count": 76,
   "id": "06ccebbd",
   "metadata": {},
   "outputs": [],
   "source": [
    "# Generate fake data for Suppliers table\n",
    "suppliers_data = [{'SupplierlD': idx + 1,\n",
    "                   'CompanyName': fake.company(),\n",
    "                   'City': fake.city(),\n",
    "                   'State': fake.state(),\n",
    "                'Country': fake.country(),\n",
    "                   'Email': fake.email()} for idx in range(10)]"
   ]
  },
  {
   "cell_type": "code",
   "execution_count": 80,
   "id": "79242a9d-f68b-4704-9dec-2e8074e3c62a",
   "metadata": {},
   "outputs": [],
   "source": [
    "categories = ['Agricultural Pipes', 'Domestic Pipes', 'Industrial Pipes']\n",
    "category_data = [{'CategoryID': idx + 1,\n",
    "                  'CategoryName': category,\n",
    "                  'Active': True} for idx, category in enumerate(categories)]"
   ]
  },
  {
   "cell_type": "code",
   "execution_count": 71,
   "id": "f77a25dc",
   "metadata": {},
   "outputs": [],
   "source": [
    "orderdetails_df = pd.DataFrame(order_details_data )"
   ]
  },
  {
   "cell_type": "code",
   "execution_count": 77,
   "id": "f764ebb8",
   "metadata": {},
   "outputs": [],
   "source": [
    "suppliers_df = pd.DataFrame(suppliers_data )"
   ]
  },
  {
   "cell_type": "code",
   "execution_count": 81,
   "id": "796a6b8d",
   "metadata": {},
   "outputs": [],
   "source": [
    "category_df = pd.DataFrame(category_data)"
   ]
  },
  {
   "cell_type": "code",
   "execution_count": 59,
   "id": "ecdd24df",
   "metadata": {},
   "outputs": [],
   "source": [
    "customers_df.to_csv('customers.csv', index=False)"
   ]
  },
  {
   "cell_type": "code",
   "execution_count": 61,
   "id": "dcf1b4e4",
   "metadata": {},
   "outputs": [],
   "source": [
    "orders_df.to_csv('orders.csv', index=False)"
   ]
  },
  {
   "cell_type": "code",
   "execution_count": 64,
   "id": "a980afb9",
   "metadata": {},
   "outputs": [],
   "source": [
    "shippers_df.to_csv('shipper.csv', index=False)"
   ]
  },
  {
   "cell_type": "code",
   "execution_count": 65,
   "id": "02240a9e",
   "metadata": {},
   "outputs": [],
   "source": [
    "payments_data_df.to_csv('payments.csv', index=False)"
   ]
  },
  {
   "cell_type": "code",
   "execution_count": 66,
   "id": "f7bba6a4",
   "metadata": {},
   "outputs": [],
   "source": [
    "products_df.to_csv('products.csv', index=False)"
   ]
  },
  {
   "cell_type": "code",
   "execution_count": 74,
   "id": "727533a9",
   "metadata": {},
   "outputs": [],
   "source": [
    "orderdetails_df.to_csv('orderdetails.csv', index=False)"
   ]
  },
  {
   "cell_type": "code",
   "execution_count": 78,
   "id": "1db48b0e",
   "metadata": {},
   "outputs": [],
   "source": [
    "suppliers_df.to_csv('suppliers.csv', index=False)"
   ]
  },
  {
   "cell_type": "code",
   "execution_count": 82,
   "id": "b73a8ba3",
   "metadata": {},
   "outputs": [],
   "source": [
    "category_df.to_csv('category.csv', index = False)"
   ]
  },
  {
   "cell_type": "code",
   "execution_count": null,
   "id": "6db3a66c",
   "metadata": {},
   "outputs": [],
   "source": []
  },
  {
   "cell_type": "code",
   "execution_count": null,
   "id": "e711dbfe",
   "metadata": {},
   "outputs": [],
   "source": []
  },
  {
   "cell_type": "code",
   "execution_count": null,
   "id": "fa3d28c1",
   "metadata": {},
   "outputs": [],
   "source": []
  },
  {
   "cell_type": "code",
   "execution_count": null,
   "id": "08e37fb8",
   "metadata": {},
   "outputs": [],
   "source": []
  },
  {
   "cell_type": "code",
   "execution_count": null,
   "id": "29c697d5",
   "metadata": {},
   "outputs": [],
   "source": []
  },
  {
   "cell_type": "code",
   "execution_count": null,
   "id": "8c615f7b",
   "metadata": {},
   "outputs": [],
   "source": []
  }
 ],
 "metadata": {
  "kernelspec": {
   "display_name": "Python 3 (ipykernel)",
   "language": "python",
   "name": "python3"
  },
  "language_info": {
   "codemirror_mode": {
    "name": "ipython",
    "version": 3
   },
   "file_extension": ".py",
   "mimetype": "text/x-python",
   "name": "python",
   "nbconvert_exporter": "python",
   "pygments_lexer": "ipython3",
   "version": "3.11.7"
  }
 },
 "nbformat": 4,
 "nbformat_minor": 5
}
